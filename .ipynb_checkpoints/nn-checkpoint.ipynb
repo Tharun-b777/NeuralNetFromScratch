{
 "cells": [
  {
   "cell_type": "code",
   "execution_count": 1,
   "metadata": {},
   "outputs": [],
   "source": [
    "import numpy as np \n",
    "import pandas as pd \n"
   ]
  },
  {
   "cell_type": "code",
   "execution_count": 2,
   "metadata": {},
   "outputs": [],
   "source": [
    "headers =  ['age', 'sex','chest_pain','resting_blood_pressure',  \n",
    "        'serum_cholestoral', 'fasting_blood_sugar', 'resting_ecg_results',\n",
    "        'max_heart_rate_achieved', 'exercise_induced_angina', 'oldpeak',\"slope of the peak\",\n",
    "        'num_of_major_vessels','thal', 'heart_disease']"
   ]
  },
  {
   "cell_type": "code",
   "execution_count": 3,
   "metadata": {},
   "outputs": [],
   "source": [
    "data=pd.read_csv('heart.dat',sep=' ',names=headers)"
   ]
  },
  {
   "cell_type": "code",
   "execution_count": 4,
   "metadata": {},
   "outputs": [
    {
     "data": {
      "text/html": [
       "<div>\n",
       "<style scoped>\n",
       "    .dataframe tbody tr th:only-of-type {\n",
       "        vertical-align: middle;\n",
       "    }\n",
       "\n",
       "    .dataframe tbody tr th {\n",
       "        vertical-align: top;\n",
       "    }\n",
       "\n",
       "    .dataframe thead th {\n",
       "        text-align: right;\n",
       "    }\n",
       "</style>\n",
       "<table border=\"1\" class=\"dataframe\">\n",
       "  <thead>\n",
       "    <tr style=\"text-align: right;\">\n",
       "      <th></th>\n",
       "      <th>age</th>\n",
       "      <th>sex</th>\n",
       "      <th>chest_pain</th>\n",
       "      <th>resting_blood_pressure</th>\n",
       "      <th>serum_cholestoral</th>\n",
       "      <th>fasting_blood_sugar</th>\n",
       "      <th>resting_ecg_results</th>\n",
       "      <th>max_heart_rate_achieved</th>\n",
       "      <th>exercise_induced_angina</th>\n",
       "      <th>oldpeak</th>\n",
       "      <th>slope of the peak</th>\n",
       "      <th>num_of_major_vessels</th>\n",
       "      <th>thal</th>\n",
       "      <th>heart_disease</th>\n",
       "    </tr>\n",
       "  </thead>\n",
       "  <tbody>\n",
       "    <tr>\n",
       "      <th>0</th>\n",
       "      <td>70.0</td>\n",
       "      <td>1.0</td>\n",
       "      <td>4.0</td>\n",
       "      <td>130.0</td>\n",
       "      <td>322.0</td>\n",
       "      <td>0.0</td>\n",
       "      <td>2.0</td>\n",
       "      <td>109.0</td>\n",
       "      <td>0.0</td>\n",
       "      <td>2.4</td>\n",
       "      <td>2.0</td>\n",
       "      <td>3.0</td>\n",
       "      <td>3.0</td>\n",
       "      <td>2</td>\n",
       "    </tr>\n",
       "    <tr>\n",
       "      <th>1</th>\n",
       "      <td>67.0</td>\n",
       "      <td>0.0</td>\n",
       "      <td>3.0</td>\n",
       "      <td>115.0</td>\n",
       "      <td>564.0</td>\n",
       "      <td>0.0</td>\n",
       "      <td>2.0</td>\n",
       "      <td>160.0</td>\n",
       "      <td>0.0</td>\n",
       "      <td>1.6</td>\n",
       "      <td>2.0</td>\n",
       "      <td>0.0</td>\n",
       "      <td>7.0</td>\n",
       "      <td>1</td>\n",
       "    </tr>\n",
       "    <tr>\n",
       "      <th>2</th>\n",
       "      <td>57.0</td>\n",
       "      <td>1.0</td>\n",
       "      <td>2.0</td>\n",
       "      <td>124.0</td>\n",
       "      <td>261.0</td>\n",
       "      <td>0.0</td>\n",
       "      <td>0.0</td>\n",
       "      <td>141.0</td>\n",
       "      <td>0.0</td>\n",
       "      <td>0.3</td>\n",
       "      <td>1.0</td>\n",
       "      <td>0.0</td>\n",
       "      <td>7.0</td>\n",
       "      <td>2</td>\n",
       "    </tr>\n",
       "    <tr>\n",
       "      <th>3</th>\n",
       "      <td>64.0</td>\n",
       "      <td>1.0</td>\n",
       "      <td>4.0</td>\n",
       "      <td>128.0</td>\n",
       "      <td>263.0</td>\n",
       "      <td>0.0</td>\n",
       "      <td>0.0</td>\n",
       "      <td>105.0</td>\n",
       "      <td>1.0</td>\n",
       "      <td>0.2</td>\n",
       "      <td>2.0</td>\n",
       "      <td>1.0</td>\n",
       "      <td>7.0</td>\n",
       "      <td>1</td>\n",
       "    </tr>\n",
       "    <tr>\n",
       "      <th>4</th>\n",
       "      <td>74.0</td>\n",
       "      <td>0.0</td>\n",
       "      <td>2.0</td>\n",
       "      <td>120.0</td>\n",
       "      <td>269.0</td>\n",
       "      <td>0.0</td>\n",
       "      <td>2.0</td>\n",
       "      <td>121.0</td>\n",
       "      <td>1.0</td>\n",
       "      <td>0.2</td>\n",
       "      <td>1.0</td>\n",
       "      <td>1.0</td>\n",
       "      <td>3.0</td>\n",
       "      <td>1</td>\n",
       "    </tr>\n",
       "    <tr>\n",
       "      <th>...</th>\n",
       "      <td>...</td>\n",
       "      <td>...</td>\n",
       "      <td>...</td>\n",
       "      <td>...</td>\n",
       "      <td>...</td>\n",
       "      <td>...</td>\n",
       "      <td>...</td>\n",
       "      <td>...</td>\n",
       "      <td>...</td>\n",
       "      <td>...</td>\n",
       "      <td>...</td>\n",
       "      <td>...</td>\n",
       "      <td>...</td>\n",
       "      <td>...</td>\n",
       "    </tr>\n",
       "    <tr>\n",
       "      <th>265</th>\n",
       "      <td>52.0</td>\n",
       "      <td>1.0</td>\n",
       "      <td>3.0</td>\n",
       "      <td>172.0</td>\n",
       "      <td>199.0</td>\n",
       "      <td>1.0</td>\n",
       "      <td>0.0</td>\n",
       "      <td>162.0</td>\n",
       "      <td>0.0</td>\n",
       "      <td>0.5</td>\n",
       "      <td>1.0</td>\n",
       "      <td>0.0</td>\n",
       "      <td>7.0</td>\n",
       "      <td>1</td>\n",
       "    </tr>\n",
       "    <tr>\n",
       "      <th>266</th>\n",
       "      <td>44.0</td>\n",
       "      <td>1.0</td>\n",
       "      <td>2.0</td>\n",
       "      <td>120.0</td>\n",
       "      <td>263.0</td>\n",
       "      <td>0.0</td>\n",
       "      <td>0.0</td>\n",
       "      <td>173.0</td>\n",
       "      <td>0.0</td>\n",
       "      <td>0.0</td>\n",
       "      <td>1.0</td>\n",
       "      <td>0.0</td>\n",
       "      <td>7.0</td>\n",
       "      <td>1</td>\n",
       "    </tr>\n",
       "    <tr>\n",
       "      <th>267</th>\n",
       "      <td>56.0</td>\n",
       "      <td>0.0</td>\n",
       "      <td>2.0</td>\n",
       "      <td>140.0</td>\n",
       "      <td>294.0</td>\n",
       "      <td>0.0</td>\n",
       "      <td>2.0</td>\n",
       "      <td>153.0</td>\n",
       "      <td>0.0</td>\n",
       "      <td>1.3</td>\n",
       "      <td>2.0</td>\n",
       "      <td>0.0</td>\n",
       "      <td>3.0</td>\n",
       "      <td>1</td>\n",
       "    </tr>\n",
       "    <tr>\n",
       "      <th>268</th>\n",
       "      <td>57.0</td>\n",
       "      <td>1.0</td>\n",
       "      <td>4.0</td>\n",
       "      <td>140.0</td>\n",
       "      <td>192.0</td>\n",
       "      <td>0.0</td>\n",
       "      <td>0.0</td>\n",
       "      <td>148.0</td>\n",
       "      <td>0.0</td>\n",
       "      <td>0.4</td>\n",
       "      <td>2.0</td>\n",
       "      <td>0.0</td>\n",
       "      <td>6.0</td>\n",
       "      <td>1</td>\n",
       "    </tr>\n",
       "    <tr>\n",
       "      <th>269</th>\n",
       "      <td>67.0</td>\n",
       "      <td>1.0</td>\n",
       "      <td>4.0</td>\n",
       "      <td>160.0</td>\n",
       "      <td>286.0</td>\n",
       "      <td>0.0</td>\n",
       "      <td>2.0</td>\n",
       "      <td>108.0</td>\n",
       "      <td>1.0</td>\n",
       "      <td>1.5</td>\n",
       "      <td>2.0</td>\n",
       "      <td>3.0</td>\n",
       "      <td>3.0</td>\n",
       "      <td>2</td>\n",
       "    </tr>\n",
       "  </tbody>\n",
       "</table>\n",
       "<p>270 rows × 14 columns</p>\n",
       "</div>"
      ],
      "text/plain": [
       "      age  sex  chest_pain  resting_blood_pressure  serum_cholestoral  \\\n",
       "0    70.0  1.0         4.0                   130.0              322.0   \n",
       "1    67.0  0.0         3.0                   115.0              564.0   \n",
       "2    57.0  1.0         2.0                   124.0              261.0   \n",
       "3    64.0  1.0         4.0                   128.0              263.0   \n",
       "4    74.0  0.0         2.0                   120.0              269.0   \n",
       "..    ...  ...         ...                     ...                ...   \n",
       "265  52.0  1.0         3.0                   172.0              199.0   \n",
       "266  44.0  1.0         2.0                   120.0              263.0   \n",
       "267  56.0  0.0         2.0                   140.0              294.0   \n",
       "268  57.0  1.0         4.0                   140.0              192.0   \n",
       "269  67.0  1.0         4.0                   160.0              286.0   \n",
       "\n",
       "     fasting_blood_sugar  resting_ecg_results  max_heart_rate_achieved  \\\n",
       "0                    0.0                  2.0                    109.0   \n",
       "1                    0.0                  2.0                    160.0   \n",
       "2                    0.0                  0.0                    141.0   \n",
       "3                    0.0                  0.0                    105.0   \n",
       "4                    0.0                  2.0                    121.0   \n",
       "..                   ...                  ...                      ...   \n",
       "265                  1.0                  0.0                    162.0   \n",
       "266                  0.0                  0.0                    173.0   \n",
       "267                  0.0                  2.0                    153.0   \n",
       "268                  0.0                  0.0                    148.0   \n",
       "269                  0.0                  2.0                    108.0   \n",
       "\n",
       "     exercise_induced_angina  oldpeak  slope of the peak  \\\n",
       "0                        0.0      2.4                2.0   \n",
       "1                        0.0      1.6                2.0   \n",
       "2                        0.0      0.3                1.0   \n",
       "3                        1.0      0.2                2.0   \n",
       "4                        1.0      0.2                1.0   \n",
       "..                       ...      ...                ...   \n",
       "265                      0.0      0.5                1.0   \n",
       "266                      0.0      0.0                1.0   \n",
       "267                      0.0      1.3                2.0   \n",
       "268                      0.0      0.4                2.0   \n",
       "269                      1.0      1.5                2.0   \n",
       "\n",
       "     num_of_major_vessels  thal  heart_disease  \n",
       "0                     3.0   3.0              2  \n",
       "1                     0.0   7.0              1  \n",
       "2                     0.0   7.0              2  \n",
       "3                     1.0   7.0              1  \n",
       "4                     1.0   3.0              1  \n",
       "..                    ...   ...            ...  \n",
       "265                   0.0   7.0              1  \n",
       "266                   0.0   7.0              1  \n",
       "267                   0.0   3.0              1  \n",
       "268                   0.0   6.0              1  \n",
       "269                   3.0   3.0              2  \n",
       "\n",
       "[270 rows x 14 columns]"
      ]
     },
     "execution_count": 4,
     "metadata": {},
     "output_type": "execute_result"
    }
   ],
   "source": [
    "data"
   ]
  },
  {
   "cell_type": "code",
   "execution_count": 5,
   "metadata": {},
   "outputs": [
    {
     "data": {
      "text/plain": [
       "age                        0\n",
       "sex                        0\n",
       "chest_pain                 0\n",
       "resting_blood_pressure     0\n",
       "serum_cholestoral          0\n",
       "fasting_blood_sugar        0\n",
       "resting_ecg_results        0\n",
       "max_heart_rate_achieved    0\n",
       "exercise_induced_angina    0\n",
       "oldpeak                    0\n",
       "slope of the peak          0\n",
       "num_of_major_vessels       0\n",
       "thal                       0\n",
       "heart_disease              0\n",
       "dtype: int64"
      ]
     },
     "execution_count": 5,
     "metadata": {},
     "output_type": "execute_result"
    }
   ],
   "source": [
    "data.isna().sum()"
   ]
  },
  {
   "cell_type": "code",
   "execution_count": 6,
   "metadata": {},
   "outputs": [],
   "source": [
    "data[\"heart_disease\"]=data[\"heart_disease\"].replace(1,0)\n",
    "data[\"heart_disease\"]=data[\"heart_disease\"].replace(2,1)\n"
   ]
  },
  {
   "cell_type": "code",
   "execution_count": 7,
   "metadata": {},
   "outputs": [
    {
     "data": {
      "text/plain": [
       "(270, 14)"
      ]
     },
     "execution_count": 7,
     "metadata": {},
     "output_type": "execute_result"
    }
   ],
   "source": [
    "data.shape"
   ]
  },
  {
   "cell_type": "code",
   "execution_count": 8,
   "metadata": {},
   "outputs": [],
   "source": [
    "X = np.array(data.drop(columns=['heart_disease']))\n",
    "y_label = np.array(data['heart_disease'].values.reshape(X.shape[0], 1))"
   ]
  },
  {
   "cell_type": "code",
   "execution_count": 9,
   "metadata": {},
   "outputs": [
    {
     "data": {
      "text/plain": [
       "((270, 13), (270, 1))"
      ]
     },
     "execution_count": 9,
     "metadata": {},
     "output_type": "execute_result"
    }
   ],
   "source": [
    "X.shape,y_label.shape"
   ]
  },
  {
   "cell_type": "code",
   "execution_count": 10,
   "metadata": {},
   "outputs": [
    {
     "data": {
      "text/plain": [
       "array([[70.,  1.,  4., ...,  2.,  3.,  3.],\n",
       "       [67.,  0.,  3., ...,  2.,  0.,  7.],\n",
       "       [57.,  1.,  2., ...,  1.,  0.,  7.],\n",
       "       ...,\n",
       "       [56.,  0.,  2., ...,  2.,  0.,  3.],\n",
       "       [57.,  1.,  4., ...,  2.,  0.,  6.],\n",
       "       [67.,  1.,  4., ...,  2.,  3.,  3.]])"
      ]
     },
     "execution_count": 10,
     "metadata": {},
     "output_type": "execute_result"
    }
   ],
   "source": [
    "X"
   ]
  },
  {
   "cell_type": "code",
   "execution_count": 11,
   "metadata": {},
   "outputs": [
    {
     "data": {
      "text/plain": [
       "(13, 181)"
      ]
     },
     "execution_count": 11,
     "metadata": {},
     "output_type": "execute_result"
    }
   ],
   "source": [
    "X_test,X_train=np.split(X,[89],axis=0)\n",
    "X_test,X_train=X_test.T,X_train.T\n",
    "X_train.shape"
   ]
  },
  {
   "cell_type": "code",
   "execution_count": 12,
   "metadata": {},
   "outputs": [
    {
     "data": {
      "text/plain": [
       "((1, 89), (13, 89))"
      ]
     },
     "execution_count": 12,
     "metadata": {},
     "output_type": "execute_result"
    }
   ],
   "source": [
    "y_test,y_train=np.split(y_label,[89],axis=0)\n",
    "y_test,y_train=y_test.T,y_train.T\n",
    "y_test.shape,X_test.shape"
   ]
  },
  {
   "cell_type": "code",
   "execution_count": 13,
   "metadata": {},
   "outputs": [],
   "source": [
    "def sigmoid(Z):\n",
    "    return(np.divide(1,(1+np.exp(-Z))))"
   ]
  },
  {
   "cell_type": "code",
   "execution_count": 14,
   "metadata": {},
   "outputs": [],
   "source": [
    "def relu(Z):\n",
    "    return(np.maximum(0.01,Z*0.01))"
   ]
  },
  {
   "cell_type": "code",
   "execution_count": 15,
   "metadata": {},
   "outputs": [],
   "source": [
    "def initialise_params(n_l,n_pl):\n",
    "    W=np.random.randn(n_l,n_pl) * 0.2\n",
    "    b=np.random.randn(n_l,1) *0.2\n",
    "    return W,b"
   ]
  },
  {
   "cell_type": "code",
   "execution_count": 16,
   "metadata": {},
   "outputs": [],
   "source": [
    "W1,b1=initialise_params(4,13)\n",
    "W2,b2=initialise_params(3,4)\n",
    "W3,b3=initialise_params(1,3)\n",
    "W1.shape,X_train.shape,X_train\n",
    "m=X_train.shape[0]"
   ]
  },
  {
   "cell_type": "code",
   "execution_count": 17,
   "metadata": {},
   "outputs": [],
   "source": [
    "def forward_prop(W,b,A_prev,activation=\"relu\"):\n",
    "    Z=np.dot(W,A_prev)+b\n",
    "    if activation==\"relu\":\n",
    "        A=relu(Z)\n",
    "    elif activation ==\"sigmoid\":\n",
    "        A=sigmoid(Z)\n",
    "    else:\n",
    "        return \"Invalid\"\n",
    "    return A"
   ]
  },
  {
   "cell_type": "code",
   "execution_count": 18,
   "metadata": {},
   "outputs": [],
   "source": [
    "def cost(A,Y,m):\n",
    "    return np.sum(np.multiply(Y,np.log(A))+np.multiply(np.add(1,-Y),np.log(1-A)))/-m "
   ]
  },
  {
   "cell_type": "code",
   "execution_count": 19,
   "metadata": {},
   "outputs": [],
   "source": [
    "def back_neuron(dZ,A,W):\n",
    "    dA_prev=np.dot(W.T,dZ)\n",
    "    dW=np.sum(np.dot(dZ,A.T),axis=0)\n",
    "    db=np.sum(dZ,axis=0)\n",
    "    return dA_prev,dW,db"
   ]
  },
  {
   "cell_type": "code",
   "execution_count": 20,
   "metadata": {},
   "outputs": [],
   "source": [
    "def dRelu(A):\n",
    "    A[A>=0]=1\n",
    "    A[A<0]=0\n",
    "    return A"
   ]
  },
  {
   "cell_type": "code",
   "execution_count": 21,
   "metadata": {},
   "outputs": [],
   "source": [
    "def dSigmoid(A):\n",
    "    return np.multiply(A,1-A)\n"
   ]
  },
  {
   "cell_type": "code",
   "execution_count": 22,
   "metadata": {},
   "outputs": [],
   "source": [
    "def dCost(y,yhat):\n",
    "    return -(np.divide(y,yhat) - np.divide(1-y,1-yhat))\n",
    "    "
   ]
  },
  {
   "cell_type": "code",
   "execution_count": 23,
   "metadata": {},
   "outputs": [],
   "source": [
    "dA3s=[]\n",
    "def Layerback(y,yhat,cache,X):\n",
    "    dA3=dCost(y,yhat)\n",
    "    dA3s.append(dA3)\n",
    "    dZ3=dA3*dSigmoid(yhat)\n",
    "    #print(dZ3)\n",
    "    dA2,dW3,db3=back_neuron(dZ3,cache[\"A2\"],cache[\"W3\"])\n",
    "    dZ2=dA2*dRelu(cache[\"A2\"])\n",
    "    dA1,dW2,db2=back_neuron(dZ2,cache[\"A1\"],cache[\"W2\"])\n",
    "    #print(dW2)\n",
    "    dZ1=dA1 * dRelu(A1)\n",
    "    _,dW1,db1=back_neuron(dZ1,X,cache[\"W1\"])\n",
    "    return dW1,db1,dW2,db2,dW3,db3\n"
   ]
  },
  {
   "cell_type": "code",
   "execution_count": 24,
   "metadata": {},
   "outputs": [],
   "source": [
    "W1,b1=initialise_params(4,13)\n",
    "W2,b2=initialise_params(3,4)\n",
    "W3,b3=initialise_params(1,3)"
   ]
  },
  {
   "cell_type": "code",
   "execution_count": 25,
   "metadata": {
    "tags": [
     "outputPrepend"
    ]
   },
   "outputs": [],
   "source": [
    "\n",
    "alpha=0.01\n",
    "costs=[]\n",
    "cache={}\n",
    "A3s=[]\n",
    "for i in range(100):\n",
    "    A1=forward_prop(W1,b1,X_train)\n",
    "    A2=forward_prop(W2,b2,A1)\n",
    "    A3=forward_prop(W3,b3,A2,activation=\"sigmoid\")\n",
    "   # print(A3)\n",
    "    costs.append(cost(A3,y_train,y_train.shape[1]))\n",
    "    cache[\"W1\"]=W1\n",
    "    cache[\"W2\"]=W2\n",
    "    cache[\"W3\"]=W3\n",
    "    cache[\"A1\"]=A1\n",
    "    cache[\"A2\"]=A2\n",
    "    dW1,db1,dW2,db2,dW3,db3=Layerback(y_train,A3,cache,X_train)\n",
    "    W1=W1-dW1*alpha\n",
    "    b1=b1-db1*alpha\n",
    "    W2=W2-dW2*alpha\n",
    "    b2=b2-db2*alpha\n",
    "    W3=W3-dW3*alpha\n",
    "    b3=b3-db3*alpha"
   ]
  },
  {
   "cell_type": "code",
   "execution_count": 26,
   "metadata": {},
   "outputs": [
    {
     "data": {
      "text/plain": [
       "100"
      ]
     },
     "execution_count": 26,
     "metadata": {},
     "output_type": "execute_result"
    }
   ],
   "source": [
    "len(costs)"
   ]
  },
  {
   "cell_type": "code",
   "execution_count": 28,
   "metadata": {},
   "outputs": [
    {
     "data": {
      "text/plain": [
       "[0.6934116647403697,\n",
       " 0.690912847105279,\n",
       " 0.6884262461314496,\n",
       " 0.6859518052615942,\n",
       " 0.6834894680218698,\n",
       " 0.6810391780248272,\n",
       " 0.6786008789723197,\n",
       " 0.6761745146583675,\n",
       " 0.6737600289719792,\n",
       " 0.6713573658999297,\n",
       " 0.6689664695294975,\n",
       " 0.6665872840511542,\n",
       " 0.6642197537612161,\n",
       " 0.6618638230644498,\n",
       " 0.659519436476636,\n",
       " 0.65718653862709,\n",
       " 0.6548650742611414,\n",
       " 0.6525549882425681,\n",
       " 0.6502562255559912,\n",
       " 0.647968731309226,\n",
       " 0.6456924507355909,\n",
       " 0.6434273291961734,\n",
       " 0.6411733121820575,\n",
       " 0.6389303453165062,\n",
       " 0.6366983743571037,\n",
       " 0.6344773451978574,\n",
       " 0.6322672038712555,\n",
       " 0.630067896550289,\n",
       " 0.6278793695504276,\n",
       " 0.625701569331559,\n",
       " 0.6235344424998858,\n",
       " 0.6213779358097835,\n",
       " 0.6192319961656186,\n",
       " 0.6170965706235261,\n",
       " 0.61497160639315,\n",
       " 0.6128570508393417,\n",
       " 0.610752851483823,\n",
       " 0.6086589560068077,\n",
       " 0.6065753122485872,\n",
       " 0.6045018682110764,\n",
       " 0.6024385720593238,\n",
       " 0.6003853721229826,\n",
       " 0.5983422168977454,\n",
       " 0.596309055046742,\n",
       " 0.594285835401902,\n",
       " 0.5922725069652786,\n",
       " 0.5902690189103394,\n",
       " 0.5882753205832201,\n",
       " 0.5862913615039432,\n",
       " 0.5843170913676019,\n",
       " 0.5823524600455091,\n",
       " 0.580397417586314,\n",
       " 0.5784519142170824,\n",
       " 0.5765159003443443,\n",
       " 0.5745893265551093,\n",
       " 0.5726721436178477,\n",
       " 0.5707643024834395,\n",
       " 0.5688657542860927,\n",
       " 0.5669764503442267,\n",
       " 0.5650963421613271,\n",
       " 0.5632253814267684,\n",
       " 0.561363520016604,\n",
       " 0.5595107099943306,\n",
       " 0.5576669036116169,\n",
       " 0.5558320533090053,\n",
       " 0.5540061117165859,\n",
       " 0.5521890316546372,\n",
       " 0.5503807661342418,\n",
       " 0.548581268357874,\n",
       " 0.5467904917199544,\n",
       " 0.5450083898073838,\n",
       " 0.5432349164000447,\n",
       " 0.5414700254712792,\n",
       " 0.539713671188338,\n",
       " 0.5379658079128039,\n",
       " 0.5362263902009913,\n",
       " 0.5344953728043169,\n",
       " 0.5327727106696489,\n",
       " 0.5310583589396285,\n",
       " 0.5293522729529694,\n",
       " 0.52765440824473,\n",
       " 0.5259647205465671,\n",
       " 0.5242831657869599,\n",
       " 0.5226097000914168,\n",
       " 11.783559402491695,\n",
       " 3.389557791981333,\n",
       " 3.3848064624743017,\n",
       " 3.380055199042144,\n",
       " 3.3753040023632015,\n",
       " 3.370552873122757,\n",
       " 3.3658018120131086,\n",
       " 3.361050819733637,\n",
       " 3.3562998969908797,\n",
       " 3.3515490444985985,\n",
       " 3.346798262977863,\n",
       " 3.3420475531571143,\n",
       " 3.337296915772246,\n",
       " 3.3325463515666756,\n",
       " 3.3277958612914293,\n",
       " 3.323045445705208]"
      ]
     },
     "execution_count": 28,
     "metadata": {},
     "output_type": "execute_result"
    }
   ],
   "source": [
    "costs"
   ]
  },
  {
   "cell_type": "code",
   "execution_count": null,
   "metadata": {},
   "outputs": [],
   "source": []
  },
  {
   "cell_type": "code",
   "execution_count": null,
   "metadata": {},
   "outputs": [],
   "source": []
  }
 ],
 "metadata": {
  "kernelspec": {
   "display_name": "Python 3",
   "language": "python",
   "name": "python3"
  },
  "language_info": {
   "codemirror_mode": {
    "name": "ipython",
    "version": 3
   },
   "file_extension": ".py",
   "mimetype": "text/x-python",
   "name": "python",
   "nbconvert_exporter": "python",
   "pygments_lexer": "ipython3",
   "version": "3.7.6"
  }
 },
 "nbformat": 4,
 "nbformat_minor": 2
}
