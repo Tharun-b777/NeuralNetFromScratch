{
 "metadata": {
  "language_info": {
   "codemirror_mode": {
    "name": "ipython",
    "version": 3
   },
   "file_extension": ".py",
   "mimetype": "text/x-python",
   "name": "python",
   "nbconvert_exporter": "python",
   "pygments_lexer": "ipython3",
   "version": "3.9.2"
  },
  "orig_nbformat": 2,
  "kernelspec": {
   "name": "python3",
   "display_name": "Python 3.9.2 64-bit"
  },
  "metadata": {
   "interpreter": {
    "hash": "3a31b1856fd8257be31d4cf418a5f75b10f8c8d40ba7159dd7fa5062bcd9b878"
   }
  },
  "interpreter": {
   "hash": "3a31b1856fd8257be31d4cf418a5f75b10f8c8d40ba7159dd7fa5062bcd9b878"
  }
 },
 "nbformat": 4,
 "nbformat_minor": 2,
 "cells": [
  {
   "cell_type": "code",
   "execution_count": 11,
   "metadata": {},
   "outputs": [],
   "source": [
    "import numpy as np \n",
    "import pandas as pd \n",
    "# from sklearn.preprocessing import StandardScaler"
   ]
  },
  {
   "cell_type": "code",
   "execution_count": 12,
   "metadata": {},
   "outputs": [],
   "source": [
    "headers =  ['age', 'sex','chest_pain','resting_blood_pressure',  \n",
    "        'serum_cholestoral', 'fasting_blood_sugar', 'resting_ecg_results',\n",
    "        'max_heart_rate_achieved', 'exercise_induced_angina', 'oldpeak',\"slope of the peak\",\n",
    "        'num_of_major_vessels','thal', 'heart_disease']"
   ]
  },
  {
   "cell_type": "code",
   "execution_count": 13,
   "metadata": {},
   "outputs": [],
   "source": [
    "data=pd.read_csv('heart.dat',sep=' ',names=headers)"
   ]
  },
  {
   "cell_type": "code",
   "execution_count": 14,
   "metadata": {},
   "outputs": [
    {
     "output_type": "execute_result",
     "data": {
      "text/plain": [
       "      age  sex  chest_pain  resting_blood_pressure  serum_cholestoral  \\\n",
       "0    70.0  1.0         4.0                   130.0              322.0   \n",
       "1    67.0  0.0         3.0                   115.0              564.0   \n",
       "2    57.0  1.0         2.0                   124.0              261.0   \n",
       "3    64.0  1.0         4.0                   128.0              263.0   \n",
       "4    74.0  0.0         2.0                   120.0              269.0   \n",
       "..    ...  ...         ...                     ...                ...   \n",
       "265  52.0  1.0         3.0                   172.0              199.0   \n",
       "266  44.0  1.0         2.0                   120.0              263.0   \n",
       "267  56.0  0.0         2.0                   140.0              294.0   \n",
       "268  57.0  1.0         4.0                   140.0              192.0   \n",
       "269  67.0  1.0         4.0                   160.0              286.0   \n",
       "\n",
       "     fasting_blood_sugar  resting_ecg_results  max_heart_rate_achieved  \\\n",
       "0                    0.0                  2.0                    109.0   \n",
       "1                    0.0                  2.0                    160.0   \n",
       "2                    0.0                  0.0                    141.0   \n",
       "3                    0.0                  0.0                    105.0   \n",
       "4                    0.0                  2.0                    121.0   \n",
       "..                   ...                  ...                      ...   \n",
       "265                  1.0                  0.0                    162.0   \n",
       "266                  0.0                  0.0                    173.0   \n",
       "267                  0.0                  2.0                    153.0   \n",
       "268                  0.0                  0.0                    148.0   \n",
       "269                  0.0                  2.0                    108.0   \n",
       "\n",
       "     exercise_induced_angina  oldpeak  slope of the peak  \\\n",
       "0                        0.0      2.4                2.0   \n",
       "1                        0.0      1.6                2.0   \n",
       "2                        0.0      0.3                1.0   \n",
       "3                        1.0      0.2                2.0   \n",
       "4                        1.0      0.2                1.0   \n",
       "..                       ...      ...                ...   \n",
       "265                      0.0      0.5                1.0   \n",
       "266                      0.0      0.0                1.0   \n",
       "267                      0.0      1.3                2.0   \n",
       "268                      0.0      0.4                2.0   \n",
       "269                      1.0      1.5                2.0   \n",
       "\n",
       "     num_of_major_vessels  thal  heart_disease  \n",
       "0                     3.0   3.0              2  \n",
       "1                     0.0   7.0              1  \n",
       "2                     0.0   7.0              2  \n",
       "3                     1.0   7.0              1  \n",
       "4                     1.0   3.0              1  \n",
       "..                    ...   ...            ...  \n",
       "265                   0.0   7.0              1  \n",
       "266                   0.0   7.0              1  \n",
       "267                   0.0   3.0              1  \n",
       "268                   0.0   6.0              1  \n",
       "269                   3.0   3.0              2  \n",
       "\n",
       "[270 rows x 14 columns]"
      ],
      "text/html": "<div>\n<style scoped>\n    .dataframe tbody tr th:only-of-type {\n        vertical-align: middle;\n    }\n\n    .dataframe tbody tr th {\n        vertical-align: top;\n    }\n\n    .dataframe thead th {\n        text-align: right;\n    }\n</style>\n<table border=\"1\" class=\"dataframe\">\n  <thead>\n    <tr style=\"text-align: right;\">\n      <th></th>\n      <th>age</th>\n      <th>sex</th>\n      <th>chest_pain</th>\n      <th>resting_blood_pressure</th>\n      <th>serum_cholestoral</th>\n      <th>fasting_blood_sugar</th>\n      <th>resting_ecg_results</th>\n      <th>max_heart_rate_achieved</th>\n      <th>exercise_induced_angina</th>\n      <th>oldpeak</th>\n      <th>slope of the peak</th>\n      <th>num_of_major_vessels</th>\n      <th>thal</th>\n      <th>heart_disease</th>\n    </tr>\n  </thead>\n  <tbody>\n    <tr>\n      <th>0</th>\n      <td>70.0</td>\n      <td>1.0</td>\n      <td>4.0</td>\n      <td>130.0</td>\n      <td>322.0</td>\n      <td>0.0</td>\n      <td>2.0</td>\n      <td>109.0</td>\n      <td>0.0</td>\n      <td>2.4</td>\n      <td>2.0</td>\n      <td>3.0</td>\n      <td>3.0</td>\n      <td>2</td>\n    </tr>\n    <tr>\n      <th>1</th>\n      <td>67.0</td>\n      <td>0.0</td>\n      <td>3.0</td>\n      <td>115.0</td>\n      <td>564.0</td>\n      <td>0.0</td>\n      <td>2.0</td>\n      <td>160.0</td>\n      <td>0.0</td>\n      <td>1.6</td>\n      <td>2.0</td>\n      <td>0.0</td>\n      <td>7.0</td>\n      <td>1</td>\n    </tr>\n    <tr>\n      <th>2</th>\n      <td>57.0</td>\n      <td>1.0</td>\n      <td>2.0</td>\n      <td>124.0</td>\n      <td>261.0</td>\n      <td>0.0</td>\n      <td>0.0</td>\n      <td>141.0</td>\n      <td>0.0</td>\n      <td>0.3</td>\n      <td>1.0</td>\n      <td>0.0</td>\n      <td>7.0</td>\n      <td>2</td>\n    </tr>\n    <tr>\n      <th>3</th>\n      <td>64.0</td>\n      <td>1.0</td>\n      <td>4.0</td>\n      <td>128.0</td>\n      <td>263.0</td>\n      <td>0.0</td>\n      <td>0.0</td>\n      <td>105.0</td>\n      <td>1.0</td>\n      <td>0.2</td>\n      <td>2.0</td>\n      <td>1.0</td>\n      <td>7.0</td>\n      <td>1</td>\n    </tr>\n    <tr>\n      <th>4</th>\n      <td>74.0</td>\n      <td>0.0</td>\n      <td>2.0</td>\n      <td>120.0</td>\n      <td>269.0</td>\n      <td>0.0</td>\n      <td>2.0</td>\n      <td>121.0</td>\n      <td>1.0</td>\n      <td>0.2</td>\n      <td>1.0</td>\n      <td>1.0</td>\n      <td>3.0</td>\n      <td>1</td>\n    </tr>\n    <tr>\n      <th>...</th>\n      <td>...</td>\n      <td>...</td>\n      <td>...</td>\n      <td>...</td>\n      <td>...</td>\n      <td>...</td>\n      <td>...</td>\n      <td>...</td>\n      <td>...</td>\n      <td>...</td>\n      <td>...</td>\n      <td>...</td>\n      <td>...</td>\n      <td>...</td>\n    </tr>\n    <tr>\n      <th>265</th>\n      <td>52.0</td>\n      <td>1.0</td>\n      <td>3.0</td>\n      <td>172.0</td>\n      <td>199.0</td>\n      <td>1.0</td>\n      <td>0.0</td>\n      <td>162.0</td>\n      <td>0.0</td>\n      <td>0.5</td>\n      <td>1.0</td>\n      <td>0.0</td>\n      <td>7.0</td>\n      <td>1</td>\n    </tr>\n    <tr>\n      <th>266</th>\n      <td>44.0</td>\n      <td>1.0</td>\n      <td>2.0</td>\n      <td>120.0</td>\n      <td>263.0</td>\n      <td>0.0</td>\n      <td>0.0</td>\n      <td>173.0</td>\n      <td>0.0</td>\n      <td>0.0</td>\n      <td>1.0</td>\n      <td>0.0</td>\n      <td>7.0</td>\n      <td>1</td>\n    </tr>\n    <tr>\n      <th>267</th>\n      <td>56.0</td>\n      <td>0.0</td>\n      <td>2.0</td>\n      <td>140.0</td>\n      <td>294.0</td>\n      <td>0.0</td>\n      <td>2.0</td>\n      <td>153.0</td>\n      <td>0.0</td>\n      <td>1.3</td>\n      <td>2.0</td>\n      <td>0.0</td>\n      <td>3.0</td>\n      <td>1</td>\n    </tr>\n    <tr>\n      <th>268</th>\n      <td>57.0</td>\n      <td>1.0</td>\n      <td>4.0</td>\n      <td>140.0</td>\n      <td>192.0</td>\n      <td>0.0</td>\n      <td>0.0</td>\n      <td>148.0</td>\n      <td>0.0</td>\n      <td>0.4</td>\n      <td>2.0</td>\n      <td>0.0</td>\n      <td>6.0</td>\n      <td>1</td>\n    </tr>\n    <tr>\n      <th>269</th>\n      <td>67.0</td>\n      <td>1.0</td>\n      <td>4.0</td>\n      <td>160.0</td>\n      <td>286.0</td>\n      <td>0.0</td>\n      <td>2.0</td>\n      <td>108.0</td>\n      <td>1.0</td>\n      <td>1.5</td>\n      <td>2.0</td>\n      <td>3.0</td>\n      <td>3.0</td>\n      <td>2</td>\n    </tr>\n  </tbody>\n</table>\n<p>270 rows × 14 columns</p>\n</div>"
     },
     "metadata": {},
     "execution_count": 14
    }
   ],
   "source": [
    "data"
   ]
  },
  {
   "cell_type": "code",
   "execution_count": 15,
   "metadata": {},
   "outputs": [
    {
     "output_type": "execute_result",
     "data": {
      "text/plain": [
       "age                        0\n",
       "sex                        0\n",
       "chest_pain                 0\n",
       "resting_blood_pressure     0\n",
       "serum_cholestoral          0\n",
       "fasting_blood_sugar        0\n",
       "resting_ecg_results        0\n",
       "max_heart_rate_achieved    0\n",
       "exercise_induced_angina    0\n",
       "oldpeak                    0\n",
       "slope of the peak          0\n",
       "num_of_major_vessels       0\n",
       "thal                       0\n",
       "heart_disease              0\n",
       "dtype: int64"
      ]
     },
     "metadata": {},
     "execution_count": 15
    }
   ],
   "source": [
    "data.isna().sum()"
   ]
  },
  {
   "cell_type": "code",
   "execution_count": 16,
   "metadata": {},
   "outputs": [],
   "source": [
    "data[\"heart_disease\"]=data[\"heart_disease\"].replace(1,0)\n",
    "data[\"heart_disease\"]=data[\"heart_disease\"].replace(2,1)\n"
   ]
  },
  {
   "cell_type": "code",
   "execution_count": 17,
   "metadata": {},
   "outputs": [
    {
     "output_type": "execute_result",
     "data": {
      "text/plain": [
       "(270, 14)"
      ]
     },
     "metadata": {},
     "execution_count": 17
    }
   ],
   "source": [
    "data.shape"
   ]
  },
  {
   "cell_type": "code",
   "execution_count": 18,
   "metadata": {},
   "outputs": [],
   "source": [
    "X = np.array(data.drop(columns=['heart_disease']))\n",
    "y_label = np.array(data['heart_disease'].values.reshape(X.shape[0], 1))"
   ]
  },
  {
   "cell_type": "code",
   "execution_count": 19,
   "metadata": {},
   "outputs": [
    {
     "output_type": "execute_result",
     "data": {
      "text/plain": [
       "((270, 13), (270, 1))"
      ]
     },
     "metadata": {},
     "execution_count": 19
    }
   ],
   "source": [
    "X.shape,y_label.shape"
   ]
  },
  {
   "cell_type": "code",
   "execution_count": 20,
   "metadata": {},
   "outputs": [
    {
     "output_type": "error",
     "ename": "ValueError",
     "evalue": "operands could not be broadcast together with shapes (181,13) (181,) ",
     "traceback": [
      "\u001b[1;31m---------------------------------------------------------------------------\u001b[0m",
      "\u001b[1;31mValueError\u001b[0m                                Traceback (most recent call last)",
      "\u001b[1;32m<ipython-input-20-c75bb9092cd0>\u001b[0m in \u001b[0;36m<module>\u001b[1;34m\u001b[0m\n\u001b[0;32m      1\u001b[0m \u001b[0mX_test\u001b[0m\u001b[1;33m,\u001b[0m\u001b[0mX_train\u001b[0m\u001b[1;33m=\u001b[0m\u001b[0mnp\u001b[0m\u001b[1;33m.\u001b[0m\u001b[0msplit\u001b[0m\u001b[1;33m(\u001b[0m\u001b[0mX\u001b[0m\u001b[1;33m,\u001b[0m\u001b[1;33m[\u001b[0m\u001b[1;36m89\u001b[0m\u001b[1;33m]\u001b[0m\u001b[1;33m,\u001b[0m\u001b[0maxis\u001b[0m\u001b[1;33m=\u001b[0m\u001b[1;36m0\u001b[0m\u001b[1;33m)\u001b[0m\u001b[1;33m\u001b[0m\u001b[1;33m\u001b[0m\u001b[0m\n\u001b[1;32m----> 2\u001b[1;33m \u001b[0mX_train\u001b[0m\u001b[1;33m=\u001b[0m\u001b[1;33m(\u001b[0m\u001b[0mX_train\u001b[0m\u001b[1;33m-\u001b[0m\u001b[0mX_train\u001b[0m\u001b[1;33m.\u001b[0m\u001b[0mmean\u001b[0m\u001b[1;33m(\u001b[0m\u001b[0maxis\u001b[0m\u001b[1;33m=\u001b[0m\u001b[1;36m1\u001b[0m\u001b[1;33m)\u001b[0m\u001b[1;33m)\u001b[0m\u001b[1;33m/\u001b[0m\u001b[0mnp\u001b[0m\u001b[1;33m.\u001b[0m\u001b[0mstd\u001b[0m\u001b[1;33m(\u001b[0m\u001b[0mX_train\u001b[0m\u001b[1;33m,\u001b[0m \u001b[0mddof\u001b[0m\u001b[1;33m=\u001b[0m\u001b[1;36m1\u001b[0m\u001b[1;33m,\u001b[0m \u001b[0maxis\u001b[0m\u001b[1;33m=\u001b[0m\u001b[1;36m1\u001b[0m\u001b[1;33m)\u001b[0m\u001b[1;33m\u001b[0m\u001b[1;33m\u001b[0m\u001b[0m\n\u001b[0m\u001b[0;32m      3\u001b[0m \u001b[0mX_test\u001b[0m\u001b[1;33m=\u001b[0m\u001b[1;33m(\u001b[0m\u001b[0mX_test\u001b[0m\u001b[1;33m-\u001b[0m\u001b[0mX_train\u001b[0m\u001b[1;33m.\u001b[0m\u001b[0mmean\u001b[0m\u001b[1;33m(\u001b[0m\u001b[0maxis\u001b[0m\u001b[1;33m=\u001b[0m\u001b[1;36m1\u001b[0m\u001b[1;33m)\u001b[0m\u001b[1;33m)\u001b[0m\u001b[1;33m/\u001b[0m\u001b[0mnp\u001b[0m\u001b[1;33m.\u001b[0m\u001b[0mstd\u001b[0m\u001b[1;33m(\u001b[0m\u001b[0mX_train\u001b[0m\u001b[1;33m,\u001b[0m \u001b[0mddof\u001b[0m\u001b[1;33m=\u001b[0m\u001b[1;36m1\u001b[0m\u001b[1;33m,\u001b[0m \u001b[0maxis\u001b[0m\u001b[1;33m=\u001b[0m\u001b[1;36m1\u001b[0m\u001b[1;33m)\u001b[0m\u001b[1;33m\u001b[0m\u001b[1;33m\u001b[0m\u001b[0m\n\u001b[0;32m      4\u001b[0m \u001b[1;31m# sc=StandardScaler()\u001b[0m\u001b[1;33m\u001b[0m\u001b[1;33m\u001b[0m\u001b[1;33m\u001b[0m\u001b[0m\n\u001b[0;32m      5\u001b[0m \u001b[1;31m# X_test,X_train=X_test,X_train\u001b[0m\u001b[1;33m\u001b[0m\u001b[1;33m\u001b[0m\u001b[1;33m\u001b[0m\u001b[0m\n",
      "\u001b[1;31mValueError\u001b[0m: operands could not be broadcast together with shapes (181,13) (181,) "
     ]
    }
   ],
   "source": [
    "X_test,X_train=np.split(X,[89],axis=0)\n",
    "X_train=(X_train-X_train.mean(axis=1))/np.std(X_train, ddof=1, axis=1)\n",
    "X_test=(X_test-X_train.mean(axis=1))/np.std(X_train, ddof=1, axis=1)\n",
    "# sc=StandardScaler()\n",
    "# X_test,X_train=X_test,X_train\n",
    "# sc.fit(X_train)\n",
    "# X_train=sc.transform(X_train)\n",
    "# X_test=sc.transform(X_test)\n",
    "X_train.shape"
   ]
  },
  {
   "cell_type": "code",
   "execution_count": 221,
   "metadata": {},
   "outputs": [
    {
     "output_type": "execute_result",
     "data": {
      "text/plain": [
       "((89, 1), (89, 13))"
      ]
     },
     "metadata": {},
     "execution_count": 221
    }
   ],
   "source": [
    "y_test,y_train=np.split(y_label,[89],axis=0)\n",
    "# y_test,y_train=y_test.T,y_train.T\n",
    "y_test.shape,X_test.shape"
   ]
  },
  {
   "cell_type": "code",
   "execution_count": 222,
   "metadata": {},
   "outputs": [],
   "source": [
    "def sigmoid(Z):\n",
    "    Z=np.divide(1,(1+np.exp(-Z)))\n",
    "    return(Z)"
   ]
  },
  {
   "cell_type": "code",
   "execution_count": 223,
   "metadata": {},
   "outputs": [],
   "source": [
    "def relu(Z):\n",
    "    return(np.maximum(0.01,Z*0.01))"
   ]
  },
  {
   "cell_type": "code",
   "execution_count": 224,
   "metadata": {},
   "outputs": [],
   "source": [
    "def initialise_params(n_l,n_pl):\n",
    "    W=np.random.randn(n_l,n_pl) * 0.2\n",
    "    b=np.random.randn(n_l,1) *0.2\n",
    "    return W,b"
   ]
  },
  {
   "cell_type": "code",
   "execution_count": 286,
   "metadata": {},
   "outputs": [],
   "source": [
    "W1,b1=initialise_params(4,13)\n",
    "W2,b2=initialise_params(3,4)\n",
    "W3,b3=initialise_params(1,3)\n",
    "W1.shape,X_train.shape,X_train\n",
    "m=X_train.shape[0]"
   ]
  },
  {
   "cell_type": "code",
   "execution_count": 287,
   "metadata": {},
   "outputs": [],
   "source": [
    "def forward_prop(W,b,A_prev,activation=\"relu\"):\n",
    "    Z=np.dot(A_prev,W.T)+b.T\n",
    "    if activation==\"relu\":\n",
    "        A=relu(Z)\n",
    "    elif activation ==\"sigmoid\":\n",
    "        A=sigmoid(Z)\n",
    "    else:\n",
    "        return \"Invalid\"\n",
    "    return A"
   ]
  },
  {
   "cell_type": "code",
   "execution_count": 288,
   "metadata": {},
   "outputs": [],
   "source": [
    "def cost(A,Y,m):\n",
    "    return np.sum(np.multiply(Y,np.log(A))+np.multiply(np.add(1,-Y),np.log(1-A)))/-m "
   ]
  },
  {
   "cell_type": "code",
   "execution_count": 289,
   "metadata": {},
   "outputs": [],
   "source": [
    "def dRelu(A):\n",
    "    A[A>=0]=1\n",
    "    A[A<0]=0\n",
    "    return A"
   ]
  },
  {
   "cell_type": "code",
   "execution_count": 290,
   "metadata": {},
   "outputs": [],
   "source": [
    "def dSigmoid(A):\n",
    "    return np.multiply(A,1-A)\n"
   ]
  },
  {
   "cell_type": "code",
   "execution_count": 291,
   "metadata": {},
   "outputs": [],
   "source": [
    "def dCost(y,yhat):\n",
    "    yhat=np.maximum(yhat,0.00001) \n",
    "    k=np.divide(y,yhat) - np.divide(1-y,1-yhat)\n",
    "    # print(k.shape)\n",
    "    return -(k)\n",
    "    "
   ]
  },
  {
   "cell_type": "code",
   "execution_count": 292,
   "metadata": {},
   "outputs": [],
   "source": [
    "def back_neuron(dZ,A,W):\n",
    "    # print(\"dZ shape\\n\")\n",
    "    # print(dZ.shape)\n",
    "    dA_prev=np.dot(dZ,W)\n",
    "    # print(dA_prev)\n",
    "    dW=np.sum(np.dot(dZ.T,A),axis=0)\n",
    "    db=np.sum(dZ)\n",
    "    return dA_prev,dW,db"
   ]
  },
  {
   "cell_type": "code",
   "execution_count": 293,
   "metadata": {},
   "outputs": [],
   "source": [
    "dA3s=[]\n",
    "def Layerback(y,yhat,cache,X):\n",
    "    dA3=dCost(y,yhat)\n",
    "    print(y.shape,yhat.shape)\n",
    "    dA3s.append(dA3)\n",
    "    dZ3=dA3*dSigmoid(yhat)\n",
    "    #print(dZ3)\n",
    "    dA2,dW3,db3=back_neuron(dZ3,cache[\"A2\"],cache[\"W3\"])\n",
    "    dZ2=dA2*dRelu(cache[\"A2\"])\n",
    "    dA1,dW2,db2=back_neuron(dZ2,cache[\"A1\"],cache[\"W2\"])\n",
    "    #print(dW2)\n",
    "    dZ1=dA1 * dRelu(A1)\n",
    "    _,dW1,db1=back_neuron(dZ1,X,cache[\"W1\"])\n",
    "    return dW1,db1,dW2,db2,dW3,db3\n"
   ]
  },
  {
   "cell_type": "code",
   "execution_count": 305,
   "metadata": {},
   "outputs": [],
   "source": [
    "W1,b1=initialise_params(4,13)\n",
    "W2,b2=initialise_params(3,4)\n",
    "W3,b3=initialise_params(1,3)"
   ]
  },
  {
   "cell_type": "code",
   "execution_count": 306,
   "metadata": {
    "tags": []
   },
   "outputs": [
    {
     "output_type": "stream",
     "name": "stdout",
     "text": [
      "(181, 1) (181, 1)\n",
      "(181, 1) (181, 1)\n",
      "(181, 1) (181, 1)\n",
      "(181, 1) (181, 1)\n",
      "(181, 1) (181, 1)\n",
      "(181, 1) (181, 1)\n",
      "(181, 1) (181, 1)\n",
      "(181, 1) (181, 1)\n",
      "(181, 1) (181, 1)\n",
      "(181, 1) (181, 1)\n",
      "(181, 1) (181, 1)\n",
      "(181, 1) (181, 1)\n",
      "(181, 1) (181, 1)\n",
      "(181, 1) (181, 1)\n",
      "(181, 1) (181, 1)\n",
      "(181, 1) (181, 1)\n",
      "(181, 1) (181, 1)\n",
      "(181, 1) (181, 1)\n",
      "(181, 1) (181, 1)\n",
      "(181, 1) (181, 1)\n",
      "(181, 1) (181, 1)\n",
      "(181, 1) (181, 1)\n",
      "(181, 1) (181, 1)\n",
      "(181, 1) (181, 1)\n",
      "(181, 1) (181, 1)\n",
      "(181, 1) (181, 1)\n",
      "(181, 1) (181, 1)\n",
      "(181, 1) (181, 1)\n",
      "(181, 1) (181, 1)\n",
      "(181, 1) (181, 1)\n",
      "(181, 1) (181, 1)\n",
      "(181, 1) (181, 1)\n",
      "(181, 1) (181, 1)\n",
      "(181, 1) (181, 1)\n",
      "(181, 1) (181, 1)\n",
      "(181, 1) (181, 1)\n",
      "(181, 1) (181, 1)\n",
      "(181, 1) (181, 1)\n",
      "(181, 1) (181, 1)\n",
      "(181, 1) (181, 1)\n",
      "(181, 1) (181, 1)\n",
      "(181, 1) (181, 1)\n",
      "(181, 1) (181, 1)\n",
      "(181, 1) (181, 1)\n",
      "(181, 1) (181, 1)\n",
      "(181, 1) (181, 1)\n",
      "(181, 1) (181, 1)\n",
      "(181, 1) (181, 1)\n",
      "(181, 1) (181, 1)\n",
      "(181, 1) (181, 1)\n",
      "(181, 1) (181, 1)\n",
      "(181, 1) (181, 1)\n",
      "(181, 1) (181, 1)\n",
      "(181, 1) (181, 1)\n",
      "(181, 1) (181, 1)\n",
      "(181, 1) (181, 1)\n",
      "(181, 1) (181, 1)\n",
      "(181, 1) (181, 1)\n",
      "(181, 1) (181, 1)\n",
      "(181, 1) (181, 1)\n",
      "(181, 1) (181, 1)\n",
      "(181, 1) (181, 1)\n",
      "(181, 1) (181, 1)\n",
      "(181, 1) (181, 1)\n",
      "(181, 1) (181, 1)\n",
      "(181, 1) (181, 1)\n",
      "(181, 1) (181, 1)\n",
      "(181, 1) (181, 1)\n",
      "(181, 1) (181, 1)\n",
      "(181, 1) (181, 1)\n",
      "(181, 1) (181, 1)\n",
      "(181, 1) (181, 1)\n",
      "(181, 1) (181, 1)\n",
      "(181, 1) (181, 1)\n",
      "(181, 1) (181, 1)\n",
      "(181, 1) (181, 1)\n",
      "(181, 1) (181, 1)\n",
      "(181, 1) (181, 1)\n",
      "(181, 1) (181, 1)\n",
      "(181, 1) (181, 1)\n",
      "(181, 1) (181, 1)\n",
      "(181, 1) (181, 1)\n",
      "(181, 1) (181, 1)\n",
      "(181, 1) (181, 1)\n",
      "(181, 1) (181, 1)\n",
      "(181, 1) (181, 1)\n",
      "(181, 1) (181, 1)\n",
      "(181, 1) (181, 1)\n",
      "(181, 1) (181, 1)\n",
      "(181, 1) (181, 1)\n",
      "(181, 1) (181, 1)\n",
      "(181, 1) (181, 1)\n",
      "(181, 1) (181, 1)\n",
      "(181, 1) (181, 1)\n",
      "(181, 1) (181, 1)\n",
      "(181, 1) (181, 1)\n",
      "(181, 1) (181, 1)\n",
      "(181, 1) (181, 1)\n",
      "(181, 1) (181, 1)\n",
      "(181, 1) (181, 1)\n",
      "(181, 1) (181, 1)\n",
      "(181, 1) (181, 1)\n",
      "(181, 1) (181, 1)\n",
      "(181, 1) (181, 1)\n",
      "(181, 1) (181, 1)\n",
      "(181, 1) (181, 1)\n",
      "(181, 1) (181, 1)\n",
      "(181, 1) (181, 1)\n",
      "(181, 1) (181, 1)\n",
      "(181, 1) (181, 1)\n",
      "(181, 1) (181, 1)\n",
      "(181, 1) (181, 1)\n",
      "(181, 1) (181, 1)\n",
      "(181, 1) (181, 1)\n",
      "(181, 1) (181, 1)\n",
      "(181, 1) (181, 1)\n",
      "(181, 1) (181, 1)\n",
      "(181, 1) (181, 1)\n",
      "(181, 1) (181, 1)\n",
      "(181, 1) (181, 1)\n",
      "(181, 1) (181, 1)\n",
      "(181, 1) (181, 1)\n",
      "(181, 1) (181, 1)\n",
      "(181, 1) (181, 1)\n",
      "(181, 1) (181, 1)\n",
      "(181, 1) (181, 1)\n",
      "(181, 1) (181, 1)\n",
      "(181, 1) (181, 1)\n",
      "(181, 1) (181, 1)\n",
      "(181, 1) (181, 1)\n",
      "(181, 1) (181, 1)\n",
      "(181, 1) (181, 1)\n",
      "(181, 1) (181, 1)\n",
      "(181, 1) (181, 1)\n",
      "(181, 1) (181, 1)\n",
      "(181, 1) (181, 1)\n",
      "(181, 1) (181, 1)\n",
      "(181, 1) (181, 1)\n",
      "(181, 1) (181, 1)\n",
      "(181, 1) (181, 1)\n",
      "(181, 1) (181, 1)\n",
      "(181, 1) (181, 1)\n",
      "(181, 1) (181, 1)\n",
      "(181, 1) (181, 1)\n",
      "(181, 1) (181, 1)\n",
      "(181, 1) (181, 1)\n",
      "(181, 1) (181, 1)\n",
      "(181, 1) (181, 1)\n",
      "(181, 1) (181, 1)\n",
      "(181, 1) (181, 1)\n",
      "(181, 1) (181, 1)\n",
      "(181, 1) (181, 1)\n",
      "(181, 1) (181, 1)\n",
      "(181, 1) (181, 1)\n",
      "(181, 1) (181, 1)\n",
      "(181, 1) (181, 1)\n",
      "(181, 1) (181, 1)\n",
      "(181, 1) (181, 1)\n",
      "(181, 1) (181, 1)\n",
      "(181, 1) (181, 1)\n",
      "(181, 1) (181, 1)\n",
      "(181, 1) (181, 1)\n",
      "(181, 1) (181, 1)\n",
      "(181, 1) (181, 1)\n",
      "(181, 1) (181, 1)\n",
      "(181, 1) (181, 1)\n",
      "(181, 1) (181, 1)\n",
      "(181, 1) (181, 1)\n",
      "(181, 1) (181, 1)\n",
      "(181, 1) (181, 1)\n",
      "(181, 1) (181, 1)\n",
      "(181, 1) (181, 1)\n",
      "(181, 1) (181, 1)\n",
      "(181, 1) (181, 1)\n",
      "(181, 1) (181, 1)\n",
      "(181, 1) (181, 1)\n",
      "(181, 1) (181, 1)\n",
      "(181, 1) (181, 1)\n",
      "(181, 1) (181, 1)\n",
      "(181, 1) (181, 1)\n",
      "(181, 1) (181, 1)\n",
      "(181, 1) (181, 1)\n",
      "(181, 1) (181, 1)\n",
      "(181, 1) (181, 1)\n",
      "(181, 1) (181, 1)\n",
      "(181, 1) (181, 1)\n",
      "(181, 1) (181, 1)\n",
      "(181, 1) (181, 1)\n",
      "(181, 1) (181, 1)\n",
      "(181, 1) (181, 1)\n",
      "(181, 1) (181, 1)\n",
      "(181, 1) (181, 1)\n",
      "(181, 1) (181, 1)\n",
      "(181, 1) (181, 1)\n",
      "(181, 1) (181, 1)\n",
      "(181, 1) (181, 1)\n",
      "(181, 1) (181, 1)\n",
      "(181, 1) (181, 1)\n",
      "(181, 1) (181, 1)\n",
      "(181, 1) (181, 1)\n"
     ]
    }
   ],
   "source": [
    "\n",
    "alpha=0.01\n",
    "costs=[]\n",
    "cache={}\n",
    "A3s=[]\n",
    "Accuracy=[]\n",
    "for i in range(200):\n",
    "    A1=forward_prop(W1,b1,X_train)\n",
    "    A2=forward_prop(W2,b2,A1)\n",
    "    A3=forward_prop(W3,b3,A2,activation=\"sigmoid\")\n",
    "   # print(A3)\n",
    "    costs.append(cost(A3,y_train,y_train.shape[1]))\n",
    "    Accuracy.append(np.abs(np.sum((y_train-A3)/y_train.shape[1])))\n",
    "    cache[\"W1\"]=W1\n",
    "    cache[\"W2\"]=W2\n",
    "    cache[\"W3\"]=W3\n",
    "    cache[\"A1\"]=A1\n",
    "    cache[\"A2\"]=A2\n",
    "    dW1,db1,dW2,db2,dW3,db3=Layerback(y_train,A3,cache,X_train)\n",
    "    W1=W1-dW1*alpha\n",
    "    # print(b1.shape)\n",
    "    b1=b1-db1*alpha\n",
    "    # print(b1.shape)\n",
    "    W2=W2-dW2*alpha\n",
    "    b2=b2-db2*alpha\n",
    "    W3=W3-dW3*alpha\n",
    "    b3=b3-db3*alpha"
   ]
  },
  {
   "cell_type": "code",
   "execution_count": 307,
   "metadata": {},
   "outputs": [],
   "source": [
    "from matplotlib import pyplot as plt "
   ]
  },
  {
   "cell_type": "code",
   "execution_count": 308,
   "metadata": {},
   "outputs": [
    {
     "output_type": "execute_result",
     "data": {
      "text/plain": [
       "[<matplotlib.lines.Line2D at 0x1dc6e96dcd0>]"
      ]
     },
     "metadata": {},
     "execution_count": 308
    },
    {
     "output_type": "display_data",
     "data": {
      "text/plain": "<Figure size 432x288 with 1 Axes>",
      "image/svg+xml": "<?xml version=\"1.0\" encoding=\"utf-8\" standalone=\"no\"?>\r\n<!DOCTYPE svg PUBLIC \"-//W3C//DTD SVG 1.1//EN\"\r\n  \"http://www.w3.org/Graphics/SVG/1.1/DTD/svg11.dtd\">\r\n<svg height=\"252.111875pt\" version=\"1.1\" viewBox=\"0 0 375.2875 252.111875\" width=\"375.2875pt\" xmlns=\"http://www.w3.org/2000/svg\" xmlns:xlink=\"http://www.w3.org/1999/xlink\">\r\n <metadata>\r\n  <rdf:RDF xmlns:cc=\"http://creativecommons.org/ns#\" xmlns:dc=\"http://purl.org/dc/elements/1.1/\" xmlns:rdf=\"http://www.w3.org/1999/02/22-rdf-syntax-ns#\">\r\n   <cc:Work>\r\n    <dc:type rdf:resource=\"http://purl.org/dc/dcmitype/StillImage\"/>\r\n    <dc:date>2021-05-27T02:08:10.399002</dc:date>\r\n    <dc:format>image/svg+xml</dc:format>\r\n    <dc:creator>\r\n     <cc:Agent>\r\n      <dc:title>Matplotlib v3.4.1, https://matplotlib.org/</dc:title>\r\n     </cc:Agent>\r\n    </dc:creator>\r\n   </cc:Work>\r\n  </rdf:RDF>\r\n </metadata>\r\n <defs>\r\n  <style type=\"text/css\">*{stroke-linecap:butt;stroke-linejoin:round;}</style>\r\n </defs>\r\n <g id=\"figure_1\">\r\n  <g id=\"patch_1\">\r\n   <path d=\"M 0 252.111875 \r\nL 375.2875 252.111875 \r\nL 375.2875 0 \r\nL 0 0 \r\nz\r\n\" style=\"fill:none;\"/>\r\n  </g>\r\n  <g id=\"axes_1\">\r\n   <g id=\"patch_2\">\r\n    <path d=\"M 33.2875 228.23375 \r\nL 368.0875 228.23375 \r\nL 368.0875 10.79375 \r\nL 33.2875 10.79375 \r\nz\r\n\" style=\"fill:#ffffff;\"/>\r\n   </g>\r\n   <g id=\"matplotlib.axis_1\">\r\n    <g id=\"xtick_1\">\r\n     <g id=\"line2d_1\">\r\n      <defs>\r\n       <path d=\"M 0 0 \r\nL 0 3.5 \r\n\" id=\"m1be6b5daf8\" style=\"stroke:#000000;stroke-width:0.8;\"/>\r\n      </defs>\r\n      <g>\r\n       <use style=\"stroke:#000000;stroke-width:0.8;\" x=\"48.505682\" xlink:href=\"#m1be6b5daf8\" y=\"228.23375\"/>\r\n      </g>\r\n     </g>\r\n     <g id=\"text_1\">\r\n      <!-- 0 -->\r\n      <g transform=\"translate(45.324432 242.832187)scale(0.1 -0.1)\">\r\n       <defs>\r\n        <path d=\"M 2034 4250 \r\nQ 1547 4250 1301 3770 \r\nQ 1056 3291 1056 2328 \r\nQ 1056 1369 1301 889 \r\nQ 1547 409 2034 409 \r\nQ 2525 409 2770 889 \r\nQ 3016 1369 3016 2328 \r\nQ 3016 3291 2770 3770 \r\nQ 2525 4250 2034 4250 \r\nz\r\nM 2034 4750 \r\nQ 2819 4750 3233 4129 \r\nQ 3647 3509 3647 2328 \r\nQ 3647 1150 3233 529 \r\nQ 2819 -91 2034 -91 \r\nQ 1250 -91 836 529 \r\nQ 422 1150 422 2328 \r\nQ 422 3509 836 4129 \r\nQ 1250 4750 2034 4750 \r\nz\r\n\" id=\"DejaVuSans-30\" transform=\"scale(0.015625)\"/>\r\n       </defs>\r\n       <use xlink:href=\"#DejaVuSans-30\"/>\r\n      </g>\r\n     </g>\r\n    </g>\r\n    <g id=\"xtick_2\">\r\n     <g id=\"line2d_2\">\r\n      <g>\r\n       <use style=\"stroke:#000000;stroke-width:0.8;\" x=\"86.74232\" xlink:href=\"#m1be6b5daf8\" y=\"228.23375\"/>\r\n      </g>\r\n     </g>\r\n     <g id=\"text_2\">\r\n      <!-- 25 -->\r\n      <g transform=\"translate(80.37982 242.832187)scale(0.1 -0.1)\">\r\n       <defs>\r\n        <path d=\"M 1228 531 \r\nL 3431 531 \r\nL 3431 0 \r\nL 469 0 \r\nL 469 531 \r\nQ 828 903 1448 1529 \r\nQ 2069 2156 2228 2338 \r\nQ 2531 2678 2651 2914 \r\nQ 2772 3150 2772 3378 \r\nQ 2772 3750 2511 3984 \r\nQ 2250 4219 1831 4219 \r\nQ 1534 4219 1204 4116 \r\nQ 875 4013 500 3803 \r\nL 500 4441 \r\nQ 881 4594 1212 4672 \r\nQ 1544 4750 1819 4750 \r\nQ 2544 4750 2975 4387 \r\nQ 3406 4025 3406 3419 \r\nQ 3406 3131 3298 2873 \r\nQ 3191 2616 2906 2266 \r\nQ 2828 2175 2409 1742 \r\nQ 1991 1309 1228 531 \r\nz\r\n\" id=\"DejaVuSans-32\" transform=\"scale(0.015625)\"/>\r\n        <path d=\"M 691 4666 \r\nL 3169 4666 \r\nL 3169 4134 \r\nL 1269 4134 \r\nL 1269 2991 \r\nQ 1406 3038 1543 3061 \r\nQ 1681 3084 1819 3084 \r\nQ 2600 3084 3056 2656 \r\nQ 3513 2228 3513 1497 \r\nQ 3513 744 3044 326 \r\nQ 2575 -91 1722 -91 \r\nQ 1428 -91 1123 -41 \r\nQ 819 9 494 109 \r\nL 494 744 \r\nQ 775 591 1075 516 \r\nQ 1375 441 1709 441 \r\nQ 2250 441 2565 725 \r\nQ 2881 1009 2881 1497 \r\nQ 2881 1984 2565 2268 \r\nQ 2250 2553 1709 2553 \r\nQ 1456 2553 1204 2497 \r\nQ 953 2441 691 2322 \r\nL 691 4666 \r\nz\r\n\" id=\"DejaVuSans-35\" transform=\"scale(0.015625)\"/>\r\n       </defs>\r\n       <use xlink:href=\"#DejaVuSans-32\"/>\r\n       <use x=\"63.623047\" xlink:href=\"#DejaVuSans-35\"/>\r\n      </g>\r\n     </g>\r\n    </g>\r\n    <g id=\"xtick_3\">\r\n     <g id=\"line2d_3\">\r\n      <g>\r\n       <use style=\"stroke:#000000;stroke-width:0.8;\" x=\"124.978957\" xlink:href=\"#m1be6b5daf8\" y=\"228.23375\"/>\r\n      </g>\r\n     </g>\r\n     <g id=\"text_3\">\r\n      <!-- 50 -->\r\n      <g transform=\"translate(118.616457 242.832187)scale(0.1 -0.1)\">\r\n       <use xlink:href=\"#DejaVuSans-35\"/>\r\n       <use x=\"63.623047\" xlink:href=\"#DejaVuSans-30\"/>\r\n      </g>\r\n     </g>\r\n    </g>\r\n    <g id=\"xtick_4\">\r\n     <g id=\"line2d_4\">\r\n      <g>\r\n       <use style=\"stroke:#000000;stroke-width:0.8;\" x=\"163.215595\" xlink:href=\"#m1be6b5daf8\" y=\"228.23375\"/>\r\n      </g>\r\n     </g>\r\n     <g id=\"text_4\">\r\n      <!-- 75 -->\r\n      <g transform=\"translate(156.853095 242.832187)scale(0.1 -0.1)\">\r\n       <defs>\r\n        <path d=\"M 525 4666 \r\nL 3525 4666 \r\nL 3525 4397 \r\nL 1831 0 \r\nL 1172 0 \r\nL 2766 4134 \r\nL 525 4134 \r\nL 525 4666 \r\nz\r\n\" id=\"DejaVuSans-37\" transform=\"scale(0.015625)\"/>\r\n       </defs>\r\n       <use xlink:href=\"#DejaVuSans-37\"/>\r\n       <use x=\"63.623047\" xlink:href=\"#DejaVuSans-35\"/>\r\n      </g>\r\n     </g>\r\n    </g>\r\n    <g id=\"xtick_5\">\r\n     <g id=\"line2d_5\">\r\n      <g>\r\n       <use style=\"stroke:#000000;stroke-width:0.8;\" x=\"201.452233\" xlink:href=\"#m1be6b5daf8\" y=\"228.23375\"/>\r\n      </g>\r\n     </g>\r\n     <g id=\"text_5\">\r\n      <!-- 100 -->\r\n      <g transform=\"translate(191.908483 242.832187)scale(0.1 -0.1)\">\r\n       <defs>\r\n        <path d=\"M 794 531 \r\nL 1825 531 \r\nL 1825 4091 \r\nL 703 3866 \r\nL 703 4441 \r\nL 1819 4666 \r\nL 2450 4666 \r\nL 2450 531 \r\nL 3481 531 \r\nL 3481 0 \r\nL 794 0 \r\nL 794 531 \r\nz\r\n\" id=\"DejaVuSans-31\" transform=\"scale(0.015625)\"/>\r\n       </defs>\r\n       <use xlink:href=\"#DejaVuSans-31\"/>\r\n       <use x=\"63.623047\" xlink:href=\"#DejaVuSans-30\"/>\r\n       <use x=\"127.246094\" xlink:href=\"#DejaVuSans-30\"/>\r\n      </g>\r\n     </g>\r\n    </g>\r\n    <g id=\"xtick_6\">\r\n     <g id=\"line2d_6\">\r\n      <g>\r\n       <use style=\"stroke:#000000;stroke-width:0.8;\" x=\"239.68887\" xlink:href=\"#m1be6b5daf8\" y=\"228.23375\"/>\r\n      </g>\r\n     </g>\r\n     <g id=\"text_6\">\r\n      <!-- 125 -->\r\n      <g transform=\"translate(230.14512 242.832187)scale(0.1 -0.1)\">\r\n       <use xlink:href=\"#DejaVuSans-31\"/>\r\n       <use x=\"63.623047\" xlink:href=\"#DejaVuSans-32\"/>\r\n       <use x=\"127.246094\" xlink:href=\"#DejaVuSans-35\"/>\r\n      </g>\r\n     </g>\r\n    </g>\r\n    <g id=\"xtick_7\">\r\n     <g id=\"line2d_7\">\r\n      <g>\r\n       <use style=\"stroke:#000000;stroke-width:0.8;\" x=\"277.925508\" xlink:href=\"#m1be6b5daf8\" y=\"228.23375\"/>\r\n      </g>\r\n     </g>\r\n     <g id=\"text_7\">\r\n      <!-- 150 -->\r\n      <g transform=\"translate(268.381758 242.832187)scale(0.1 -0.1)\">\r\n       <use xlink:href=\"#DejaVuSans-31\"/>\r\n       <use x=\"63.623047\" xlink:href=\"#DejaVuSans-35\"/>\r\n       <use x=\"127.246094\" xlink:href=\"#DejaVuSans-30\"/>\r\n      </g>\r\n     </g>\r\n    </g>\r\n    <g id=\"xtick_8\">\r\n     <g id=\"line2d_8\">\r\n      <g>\r\n       <use style=\"stroke:#000000;stroke-width:0.8;\" x=\"316.162146\" xlink:href=\"#m1be6b5daf8\" y=\"228.23375\"/>\r\n      </g>\r\n     </g>\r\n     <g id=\"text_8\">\r\n      <!-- 175 -->\r\n      <g transform=\"translate(306.618396 242.832187)scale(0.1 -0.1)\">\r\n       <use xlink:href=\"#DejaVuSans-31\"/>\r\n       <use x=\"63.623047\" xlink:href=\"#DejaVuSans-37\"/>\r\n       <use x=\"127.246094\" xlink:href=\"#DejaVuSans-35\"/>\r\n      </g>\r\n     </g>\r\n    </g>\r\n    <g id=\"xtick_9\">\r\n     <g id=\"line2d_9\">\r\n      <g>\r\n       <use style=\"stroke:#000000;stroke-width:0.8;\" x=\"354.398784\" xlink:href=\"#m1be6b5daf8\" y=\"228.23375\"/>\r\n      </g>\r\n     </g>\r\n     <g id=\"text_9\">\r\n      <!-- 200 -->\r\n      <g transform=\"translate(344.855034 242.832187)scale(0.1 -0.1)\">\r\n       <use xlink:href=\"#DejaVuSans-32\"/>\r\n       <use x=\"63.623047\" xlink:href=\"#DejaVuSans-30\"/>\r\n       <use x=\"127.246094\" xlink:href=\"#DejaVuSans-30\"/>\r\n      </g>\r\n     </g>\r\n    </g>\r\n   </g>\r\n   <g id=\"matplotlib.axis_2\">\r\n    <g id=\"ytick_1\">\r\n     <g id=\"line2d_10\">\r\n      <defs>\r\n       <path d=\"M 0 0 \r\nL -3.5 0 \r\n\" id=\"m08fd2b8fe4\" style=\"stroke:#000000;stroke-width:0.8;\"/>\r\n      </defs>\r\n      <g>\r\n       <use style=\"stroke:#000000;stroke-width:0.8;\" x=\"33.2875\" xlink:href=\"#m08fd2b8fe4\" y=\"202.223452\"/>\r\n      </g>\r\n     </g>\r\n     <g id=\"text_10\">\r\n      <!-- 70 -->\r\n      <g transform=\"translate(13.5625 206.02267)scale(0.1 -0.1)\">\r\n       <use xlink:href=\"#DejaVuSans-37\"/>\r\n       <use x=\"63.623047\" xlink:href=\"#DejaVuSans-30\"/>\r\n      </g>\r\n     </g>\r\n    </g>\r\n    <g id=\"ytick_2\">\r\n     <g id=\"line2d_11\">\r\n      <g>\r\n       <use style=\"stroke:#000000;stroke-width:0.8;\" x=\"33.2875\" xlink:href=\"#m08fd2b8fe4\" y=\"170.352746\"/>\r\n      </g>\r\n     </g>\r\n     <g id=\"text_11\">\r\n      <!-- 80 -->\r\n      <g transform=\"translate(13.5625 174.151965)scale(0.1 -0.1)\">\r\n       <defs>\r\n        <path d=\"M 2034 2216 \r\nQ 1584 2216 1326 1975 \r\nQ 1069 1734 1069 1313 \r\nQ 1069 891 1326 650 \r\nQ 1584 409 2034 409 \r\nQ 2484 409 2743 651 \r\nQ 3003 894 3003 1313 \r\nQ 3003 1734 2745 1975 \r\nQ 2488 2216 2034 2216 \r\nz\r\nM 1403 2484 \r\nQ 997 2584 770 2862 \r\nQ 544 3141 544 3541 \r\nQ 544 4100 942 4425 \r\nQ 1341 4750 2034 4750 \r\nQ 2731 4750 3128 4425 \r\nQ 3525 4100 3525 3541 \r\nQ 3525 3141 3298 2862 \r\nQ 3072 2584 2669 2484 \r\nQ 3125 2378 3379 2068 \r\nQ 3634 1759 3634 1313 \r\nQ 3634 634 3220 271 \r\nQ 2806 -91 2034 -91 \r\nQ 1263 -91 848 271 \r\nQ 434 634 434 1313 \r\nQ 434 1759 690 2068 \r\nQ 947 2378 1403 2484 \r\nz\r\nM 1172 3481 \r\nQ 1172 3119 1398 2916 \r\nQ 1625 2713 2034 2713 \r\nQ 2441 2713 2670 2916 \r\nQ 2900 3119 2900 3481 \r\nQ 2900 3844 2670 4047 \r\nQ 2441 4250 2034 4250 \r\nQ 1625 4250 1398 4047 \r\nQ 1172 3844 1172 3481 \r\nz\r\n\" id=\"DejaVuSans-38\" transform=\"scale(0.015625)\"/>\r\n       </defs>\r\n       <use xlink:href=\"#DejaVuSans-38\"/>\r\n       <use x=\"63.623047\" xlink:href=\"#DejaVuSans-30\"/>\r\n      </g>\r\n     </g>\r\n    </g>\r\n    <g id=\"ytick_3\">\r\n     <g id=\"line2d_12\">\r\n      <g>\r\n       <use style=\"stroke:#000000;stroke-width:0.8;\" x=\"33.2875\" xlink:href=\"#m08fd2b8fe4\" y=\"138.482041\"/>\r\n      </g>\r\n     </g>\r\n     <g id=\"text_12\">\r\n      <!-- 90 -->\r\n      <g transform=\"translate(13.5625 142.281259)scale(0.1 -0.1)\">\r\n       <defs>\r\n        <path d=\"M 703 97 \r\nL 703 672 \r\nQ 941 559 1184 500 \r\nQ 1428 441 1663 441 \r\nQ 2288 441 2617 861 \r\nQ 2947 1281 2994 2138 \r\nQ 2813 1869 2534 1725 \r\nQ 2256 1581 1919 1581 \r\nQ 1219 1581 811 2004 \r\nQ 403 2428 403 3163 \r\nQ 403 3881 828 4315 \r\nQ 1253 4750 1959 4750 \r\nQ 2769 4750 3195 4129 \r\nQ 3622 3509 3622 2328 \r\nQ 3622 1225 3098 567 \r\nQ 2575 -91 1691 -91 \r\nQ 1453 -91 1209 -44 \r\nQ 966 3 703 97 \r\nz\r\nM 1959 2075 \r\nQ 2384 2075 2632 2365 \r\nQ 2881 2656 2881 3163 \r\nQ 2881 3666 2632 3958 \r\nQ 2384 4250 1959 4250 \r\nQ 1534 4250 1286 3958 \r\nQ 1038 3666 1038 3163 \r\nQ 1038 2656 1286 2365 \r\nQ 1534 2075 1959 2075 \r\nz\r\n\" id=\"DejaVuSans-39\" transform=\"scale(0.015625)\"/>\r\n       </defs>\r\n       <use xlink:href=\"#DejaVuSans-39\"/>\r\n       <use x=\"63.623047\" xlink:href=\"#DejaVuSans-30\"/>\r\n      </g>\r\n     </g>\r\n    </g>\r\n    <g id=\"ytick_4\">\r\n     <g id=\"line2d_13\">\r\n      <g>\r\n       <use style=\"stroke:#000000;stroke-width:0.8;\" x=\"33.2875\" xlink:href=\"#m08fd2b8fe4\" y=\"106.611335\"/>\r\n      </g>\r\n     </g>\r\n     <g id=\"text_13\">\r\n      <!-- 100 -->\r\n      <g transform=\"translate(7.2 110.410554)scale(0.1 -0.1)\">\r\n       <use xlink:href=\"#DejaVuSans-31\"/>\r\n       <use x=\"63.623047\" xlink:href=\"#DejaVuSans-30\"/>\r\n       <use x=\"127.246094\" xlink:href=\"#DejaVuSans-30\"/>\r\n      </g>\r\n     </g>\r\n    </g>\r\n    <g id=\"ytick_5\">\r\n     <g id=\"line2d_14\">\r\n      <g>\r\n       <use style=\"stroke:#000000;stroke-width:0.8;\" x=\"33.2875\" xlink:href=\"#m08fd2b8fe4\" y=\"74.74063\"/>\r\n      </g>\r\n     </g>\r\n     <g id=\"text_14\">\r\n      <!-- 110 -->\r\n      <g transform=\"translate(7.2 78.539848)scale(0.1 -0.1)\">\r\n       <use xlink:href=\"#DejaVuSans-31\"/>\r\n       <use x=\"63.623047\" xlink:href=\"#DejaVuSans-31\"/>\r\n       <use x=\"127.246094\" xlink:href=\"#DejaVuSans-30\"/>\r\n      </g>\r\n     </g>\r\n    </g>\r\n    <g id=\"ytick_6\">\r\n     <g id=\"line2d_15\">\r\n      <g>\r\n       <use style=\"stroke:#000000;stroke-width:0.8;\" x=\"33.2875\" xlink:href=\"#m08fd2b8fe4\" y=\"42.869924\"/>\r\n      </g>\r\n     </g>\r\n     <g id=\"text_15\">\r\n      <!-- 120 -->\r\n      <g transform=\"translate(7.2 46.669143)scale(0.1 -0.1)\">\r\n       <use xlink:href=\"#DejaVuSans-31\"/>\r\n       <use x=\"63.623047\" xlink:href=\"#DejaVuSans-32\"/>\r\n       <use x=\"127.246094\" xlink:href=\"#DejaVuSans-30\"/>\r\n      </g>\r\n     </g>\r\n    </g>\r\n    <g id=\"ytick_7\">\r\n     <g id=\"line2d_16\">\r\n      <g>\r\n       <use style=\"stroke:#000000;stroke-width:0.8;\" x=\"33.2875\" xlink:href=\"#m08fd2b8fe4\" y=\"10.999219\"/>\r\n      </g>\r\n     </g>\r\n     <g id=\"text_16\">\r\n      <!-- 130 -->\r\n      <g transform=\"translate(7.2 14.798437)scale(0.1 -0.1)\">\r\n       <defs>\r\n        <path d=\"M 2597 2516 \r\nQ 3050 2419 3304 2112 \r\nQ 3559 1806 3559 1356 \r\nQ 3559 666 3084 287 \r\nQ 2609 -91 1734 -91 \r\nQ 1441 -91 1130 -33 \r\nQ 819 25 488 141 \r\nL 488 750 \r\nQ 750 597 1062 519 \r\nQ 1375 441 1716 441 \r\nQ 2309 441 2620 675 \r\nQ 2931 909 2931 1356 \r\nQ 2931 1769 2642 2001 \r\nQ 2353 2234 1838 2234 \r\nL 1294 2234 \r\nL 1294 2753 \r\nL 1863 2753 \r\nQ 2328 2753 2575 2939 \r\nQ 2822 3125 2822 3475 \r\nQ 2822 3834 2567 4026 \r\nQ 2313 4219 1838 4219 \r\nQ 1578 4219 1281 4162 \r\nQ 984 4106 628 3988 \r\nL 628 4550 \r\nQ 988 4650 1302 4700 \r\nQ 1616 4750 1894 4750 \r\nQ 2613 4750 3031 4423 \r\nQ 3450 4097 3450 3541 \r\nQ 3450 3153 3228 2886 \r\nQ 3006 2619 2597 2516 \r\nz\r\n\" id=\"DejaVuSans-33\" transform=\"scale(0.015625)\"/>\r\n       </defs>\r\n       <use xlink:href=\"#DejaVuSans-31\"/>\r\n       <use x=\"63.623047\" xlink:href=\"#DejaVuSans-33\"/>\r\n       <use x=\"127.246094\" xlink:href=\"#DejaVuSans-30\"/>\r\n      </g>\r\n     </g>\r\n    </g>\r\n   </g>\r\n   <g id=\"line2d_17\">\r\n    <path clip-path=\"url(#pbff2742ab9)\" d=\"M 48.505682 20.677386 \r\nL 50.035147 25.072444 \r\nL 51.564613 26.392785 \r\nL 53.094078 26.788628 \r\nL 56.153009 26.943368 \r\nL 72.97713 26.958836 \r\nL 103.56644 27.060779 \r\nL 111.213768 27.350333 \r\nL 115.802164 27.723239 \r\nL 118.861095 28.160367 \r\nL 121.920026 28.900068 \r\nL 123.449492 29.471895 \r\nL 124.978957 30.264351 \r\nL 126.508423 31.38918 \r\nL 128.037888 33.032102 \r\nL 129.567354 35.501408 \r\nL 131.096819 39.327542 \r\nL 132.626285 45.43103 \r\nL 134.15575 55.362697 \r\nL 135.685216 71.406198 \r\nL 137.214681 95.541092 \r\nL 140.273612 153.756417 \r\nL 141.803078 174.500253 \r\nL 143.332543 188.546654 \r\nL 144.862009 198.113801 \r\nL 146.391474 204.741606 \r\nL 147.92094 209.347083 \r\nL 149.450405 212.494989 \r\nL 150.979871 214.540354 \r\nL 152.509336 215.857457 \r\nL 154.038802 216.635132 \r\nL 155.568267 217.043461 \r\nL 157.097733 217.195985 \r\nL 160.156664 217.103528 \r\nL 164.745061 216.754428 \r\nL 170.862923 216.271176 \r\nL 180.039716 216.208638 \r\nL 198.393302 216.421761 \r\nL 279.454974 217.172708 \r\nL 311.573749 217.782508 \r\nL 352.869318 218.350114 \r\nL 352.869318 218.350114 \r\n\" style=\"fill:none;stroke:#1f77b4;stroke-linecap:square;stroke-width:1.5;\"/>\r\n   </g>\r\n   <g id=\"patch_3\">\r\n    <path d=\"M 33.2875 228.23375 \r\nL 33.2875 10.79375 \r\n\" style=\"fill:none;stroke:#000000;stroke-linecap:square;stroke-linejoin:miter;stroke-width:0.8;\"/>\r\n   </g>\r\n   <g id=\"patch_4\">\r\n    <path d=\"M 368.0875 228.23375 \r\nL 368.0875 10.79375 \r\n\" style=\"fill:none;stroke:#000000;stroke-linecap:square;stroke-linejoin:miter;stroke-width:0.8;\"/>\r\n   </g>\r\n   <g id=\"patch_5\">\r\n    <path d=\"M 33.2875 228.23375 \r\nL 368.0875 228.23375 \r\n\" style=\"fill:none;stroke:#000000;stroke-linecap:square;stroke-linejoin:miter;stroke-width:0.8;\"/>\r\n   </g>\r\n   <g id=\"patch_6\">\r\n    <path d=\"M 33.2875 10.79375 \r\nL 368.0875 10.79375 \r\n\" style=\"fill:none;stroke:#000000;stroke-linecap:square;stroke-linejoin:miter;stroke-width:0.8;\"/>\r\n   </g>\r\n  </g>\r\n </g>\r\n <defs>\r\n  <clipPath id=\"pbff2742ab9\">\r\n   <rect height=\"217.44\" width=\"334.8\" x=\"33.2875\" y=\"10.79375\"/>\r\n  </clipPath>\r\n </defs>\r\n</svg>\r\n",
      "image/png": "[encoded data removed]"
     },
     "metadata": {
      "needs_background": "light"
     }
    }
   ],
   "source": [
    "plt.plot(costs)\n"
   ]
  },
  {
   "cell_type": "code",
   "execution_count": 309,
   "metadata": {},
   "outputs": [
    {
     "output_type": "execute_result",
     "data": {
      "text/plain": [
       "0.0"
      ]
     },
     "metadata": {},
     "execution_count": 309
    }
   ],
   "source": [
    "#Accuracy\n",
    "np.sum(A3==y_train)/y_train.size"
   ]
  },
  {
   "cell_type": "code",
   "execution_count": 311,
   "metadata": {},
   "outputs": [
    {
     "output_type": "execute_result",
     "data": {
      "text/plain": [
       "(3, 1)"
      ]
     },
     "metadata": {},
     "execution_count": 311
    }
   ],
   "source": [
    "b2.shape"
   ]
  },
  {
   "cell_type": "code",
   "execution_count": 312,
   "metadata": {},
   "outputs": [],
   "source": [
    "A3[A3>0.7]=1\n",
    "A3[A3<0.7]=0"
   ]
  },
  {
   "cell_type": "code",
   "execution_count": 313,
   "metadata": {},
   "outputs": [
    {
     "output_type": "execute_result",
     "data": {
      "text/plain": [
       "0.850828729281768"
      ]
     },
     "metadata": {},
     "execution_count": 313
    }
   ],
   "source": [
    "np.sum(A3==y_train)/y_train.size"
   ]
  },
  {
   "cell_type": "code",
   "execution_count": 315,
   "metadata": {},
   "outputs": [],
   "source": [
    "    A1=forward_prop(W1,b1,X_test)\n",
    "    A2=forward_prop(W2,b2,A1)\n",
    "    A3=forward_prop(W3,b3,A2,activation=\"sigmoid\")"
   ]
  },
  {
   "cell_type": "code",
   "execution_count": 318,
   "metadata": {},
   "outputs": [
    {
     "output_type": "execute_result",
     "data": {
      "text/plain": [
       "0.797752808988764"
      ]
     },
     "metadata": {},
     "execution_count": 318
    }
   ],
   "source": [
    "A3[A3>0.7]=1\n",
    "A3[A3<0.7]=0\n",
    "np.sum(A3==y_test)/y_test.size"
   ]
  },
  {
   "cell_type": "code",
   "execution_count": null,
   "metadata": {},
   "outputs": [],
   "source": []
  }
 ]
}